{
 "cells": [
  {
   "cell_type": "markdown",
   "id": "935325c9-3b1a-408d-86e5-24821d52056d",
   "metadata": {},
   "source": [
    "##Author\n",
    "\n"
   ]
  },
  {
   "cell_type": "markdown",
   "id": "a8fcc6d1-6701-4430-96b9-a94074372c18",
   "metadata": {},
   "source": [
    "David Conley"
   ]
  },
  {
   "cell_type": "markdown",
   "id": "171da74e-f84a-4996-94d6-0116fa3372a1",
   "metadata": {},
   "source": [
    "##Data Science Tools and Ecosystem"
   ]
  },
  {
   "cell_type": "markdown",
   "id": "aef052e3-9756-42e3-9e1b-1112f58acbe9",
   "metadata": {},
   "source": [
    "In this notebook, Data Science Tools and Ecosystem are summarized."
   ]
  },
  {
   "cell_type": "markdown",
   "id": "2fb1492f-33f4-4df2-a794-744c31d631a9",
   "metadata": {},
   "source": [
    "**OBJECTIVES:**"
   ]
  },
  {
   "cell_type": "markdown",
   "id": "5146c387-433c-4dbe-8d0d-442ec2c41969",
   "metadata": {},
   "source": [
    "- List popular languages for Data Science.\n",
    "- Commonly used libraries\n",
    "- Examples of arithmetic expression in Python"
   ]
  },
  {
   "cell_type": "markdown",
   "id": "e2af8a27-4d95-477c-845f-8cb3ece1d602",
   "metadata": {},
   "source": [
    "Some of the popular languages that Data Scientists use are:\n",
    "    "
   ]
  },
  {
   "cell_type": "markdown",
   "id": "bd1b1a9e-c0da-4805-965f-d84f95444453",
   "metadata": {},
   "source": [
    "1. Python\n",
    "2. R\n",
    "3. Scala"
   ]
  },
  {
   "cell_type": "markdown",
   "id": "cbe1ffb4-c160-4978-a6b5-970b09706388",
   "metadata": {},
   "source": [
    "Some of the commonly used libraries used by Data Scientists include:\n",
    "    "
   ]
  },
  {
   "cell_type": "markdown",
   "id": "b1dd9895-156d-4c40-9280-81a7baa80e6c",
   "metadata": {},
   "source": [
    "1. Pandas\n",
    "2. Tensorflow\n",
    "3. Scikit-learn"
   ]
  },
  {
   "cell_type": "markdown",
   "id": "93cf28a3-9688-4647-9279-70dc028a716a",
   "metadata": {},
   "source": [
    "|Data Science Tools|\n",
    "------------------\n",
    "|Spyder |\n",
    "|JupyterLab  |\n",
    "|VS Code  |"
   ]
  },
  {
   "cell_type": "markdown",
   "id": "848e74c8-9db5-49dd-a9b0-397c649aaab5",
   "metadata": {},
   "source": [
    "Below are a few examples of evaluating arithmetic expressions in Python\n"
   ]
  },
  {
   "cell_type": "markdown",
   "id": "61599676-b320-442d-a115-9daf67338da6",
   "metadata": {},
   "source": [
    "This a simple arithmetic expression to mutiply then add integers."
   ]
  },
  {
   "cell_type": "code",
   "execution_count": 2,
   "id": "6d264059-a43f-418d-83f3-9d8dde706917",
   "metadata": {
    "tags": []
   },
   "outputs": [
    {
     "data": {
      "text/plain": [
       "17"
      ]
     },
     "execution_count": 2,
     "metadata": {},
     "output_type": "execute_result"
    }
   ],
   "source": [
    "(3*4)+5"
   ]
  },
  {
   "cell_type": "markdown",
   "id": "c898b6a1-2b88-43ea-b0ec-086a74450946",
   "metadata": {},
   "source": [
    " This will convert 200 minutes to hours by diving by 60."
   ]
  },
  {
   "cell_type": "code",
   "execution_count": 4,
   "id": "747c75f3-27cd-416b-920a-9dca8c871d67",
   "metadata": {
    "tags": []
   },
   "outputs": [
    {
     "data": {
      "text/plain": [
       "3.3333333333333335"
      ]
     },
     "execution_count": 4,
     "metadata": {},
     "output_type": "execute_result"
    }
   ],
   "source": [
    "200/60"
   ]
  },
  {
   "cell_type": "code",
   "execution_count": null,
   "id": "f3e4fe52-9358-47f1-af1b-e9c696469f1e",
   "metadata": {},
   "outputs": [],
   "source": []
  }
 ],
 "metadata": {
  "kernelspec": {
   "display_name": "Python",
   "language": "python",
   "name": "conda-env-python-py"
  },
  "language_info": {
   "codemirror_mode": {
    "name": "ipython",
    "version": 3
   },
   "file_extension": ".py",
   "mimetype": "text/x-python",
   "name": "python",
   "nbconvert_exporter": "python",
   "pygments_lexer": "ipython3",
   "version": "3.7.12"
  }
 },
 "nbformat": 4,
 "nbformat_minor": 5
}
